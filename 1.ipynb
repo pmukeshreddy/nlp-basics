{
  "nbformat": 4,
  "nbformat_minor": 0,
  "metadata": {
    "colab": {
      "provenance": []
    },
    "kernelspec": {
      "name": "python3",
      "display_name": "Python 3"
    },
    "language_info": {
      "name": "python"
    }
  },
  "cells": [
    {
      "cell_type": "code",
      "execution_count": null,
      "metadata": {
        "id": "VJHKOHwMpAZ6"
      },
      "outputs": [],
      "source": [
        "import nltk\n",
        "from nltk.corpus import twitter_samples\n",
        "import matplotlib.pyplot as plt\n",
        "import random"
      ]
    },
    {
      "cell_type": "code",
      "source": [
        "nltk.download(\"twitter_samples\")"
      ],
      "metadata": {
        "colab": {
          "base_uri": "https://localhost:8080/"
        },
        "id": "pLRHRrs-pU9z",
        "outputId": "e28f680e-beba-4294-8f00-1c12fae0af4e"
      },
      "execution_count": null,
      "outputs": [
        {
          "output_type": "stream",
          "name": "stderr",
          "text": [
            "[nltk_data] Downloading package twitter_samples to /root/nltk_data...\n",
            "[nltk_data]   Package twitter_samples is already up-to-date!\n"
          ]
        },
        {
          "output_type": "execute_result",
          "data": {
            "text/plain": [
              "True"
            ]
          },
          "metadata": {},
          "execution_count": 46
        }
      ]
    },
    {
      "cell_type": "code",
      "source": [
        "all_postive_tweets = twitter_samples.strings(\"positive_tweets.json\")\n",
        "all_negative_tweets = twitter_samples.strings(\"negative_tweets.json\")"
      ],
      "metadata": {
        "id": "m-eRGbvWpnYN"
      },
      "execution_count": null,
      "outputs": []
    },
    {
      "cell_type": "code",
      "source": [
        "print(\"number of +ve tweets is \",len(all_postive_tweets))\n",
        "print(\"number of -ve tweets is \",len(all_negative_tweets))\n",
        "print(\"the type of tweets is \",type(all_postive_tweets))\n",
        "print(\"the sample of tweet is \",all_negative_tweets[0])"
      ],
      "metadata": {
        "colab": {
          "base_uri": "https://localhost:8080/"
        },
        "id": "QTVCQ4Y-p5D5",
        "outputId": "49328a60-e3fd-4553-8521-d51dff8dc4f6"
      },
      "execution_count": null,
      "outputs": [
        {
          "output_type": "stream",
          "name": "stdout",
          "text": [
            "number of +ve tweets is  5000\n",
            "number of -ve tweets is  5000\n",
            "the type of tweets is  <class 'list'>\n",
            "the sample of tweet is  hopeless for tmr :(\n"
          ]
        }
      ]
    },
    {
      "cell_type": "code",
      "source": [
        "fig = plt.figure(figsize=(5,5))\n",
        "labels = \"positive\",\"negative\"\n",
        "sizes = [len(all_postive_tweets),len(all_negative_tweets)]\n",
        "plt.pie(sizes,labels=labels,autopct=\"%1.1f%%\",shadow=True,startangle=90) #autopct mean like it related to cutting\n",
        "plt.axis(\"equal\")     \n",
        "plt.show()                                                                   #startangle mean each can have certian angle"
      ],
      "metadata": {
        "colab": {
          "base_uri": "https://localhost:8080/",
          "height": 303
        },
        "id": "zj9uCCEGqk-4",
        "outputId": "6da6779e-f051-4869-96a7-9feef8ff138c"
      },
      "execution_count": null,
      "outputs": [
        {
          "output_type": "display_data",
          "data": {
            "text/plain": [
              "<Figure size 360x360 with 1 Axes>"
            ],
            "image/png": "[encoded data removed]"
          },
          "metadata": {}
        }
      ]
    },
    {
      "cell_type": "code",
      "source": [
        "print(\"\\033[92m\"+all_postive_tweets[random.randint(0,5000)])#\"\\033[92m\" will let everything green\n",
        "print(\"\\033[91m\"+all_negative_tweets[random.randint(0,5000)])#\"\\033[91\" will let everything print red"
      ],
      "metadata": {
        "colab": {
          "base_uri": "https://localhost:8080/"
        },
        "id": "jNuBhtEYsRf6",
        "outputId": "b9f35f50-52f7-46f7-ec9e-4763a337a2a6"
      },
      "execution_count": null,
      "outputs": [
        {
          "output_type": "stream",
          "name": "stdout",
          "text": [
            "\u001b[92mHappy Birthday :) @mixbad\n",
            "\u001b[91mSo cold :(\n"
          ]
        }
      ]
    },
    {
      "cell_type": "code",
      "source": [
        "tweet = all_postive_tweets[2779]\n",
        "print(tweet)"
      ],
      "metadata": {
        "colab": {
          "base_uri": "https://localhost:8080/"
        },
        "id": "54lLOVIes2JC",
        "outputId": "b139e7ec-6b21-4d73-b308-39a0dbe925bc"
      },
      "execution_count": null,
      "outputs": [
        {
          "output_type": "stream",
          "name": "stdout",
          "text": [
            "Be sure to check out my last edit if you haven't already. :) https://t.co/N88T6qrwpI\n"
          ]
        }
      ]
    },
    {
      "cell_type": "code",
      "source": [
        "nltk.download(\"stopwords\")"
      ],
      "metadata": {
        "colab": {
          "base_uri": "https://localhost:8080/"
        },
        "id": "quNV8-n4uTJ3",
        "outputId": "95162c6e-610d-4cd2-814d-b30d48857ea2"
      },
      "execution_count": null,
      "outputs": [
        {
          "output_type": "stream",
          "name": "stderr",
          "text": [
            "[nltk_data] Downloading package stopwords to /root/nltk_data...\n",
            "[nltk_data]   Package stopwords is already up-to-date!\n"
          ]
        },
        {
          "output_type": "execute_result",
          "data": {
            "text/plain": [
              "True"
            ]
          },
          "metadata": {},
          "execution_count": 52
        }
      ]
    },
    {
      "cell_type": "code",
      "source": [
        "import re\n",
        "import string\n",
        "\n",
        "from nltk.corpus import stopwords\n",
        "from nltk.stem import PorterStemmer\n",
        "from nltk.tokenize import TweetTokenizer"
      ],
      "metadata": {
        "id": "SpCOZNvOufGO"
      },
      "execution_count": null,
      "outputs": []
    },
    {
      "cell_type": "code",
      "source": [
        "print(\"\\033[92m\",tweet)\n",
        "print(\"\\033[94m\") #\"\\033[94m\" is for blue\n",
        "\n",
        "tweet2 = re.sub(r'^RT[\\s]+','',tweet)\n",
        "tweet2 = re.sub(r'https?://[^\\s\\n\\r]+','',tweet2)\n",
        "tweet2 = re.sub(r'#','',tweet2)\n",
        "print(tweet2)"
      ],
      "metadata": {
        "colab": {
          "base_uri": "https://localhost:8080/"
        },
        "id": "74AUWFUbvIYu",
        "outputId": "da6b253a-add2-4271-f68d-a37e7325d3e7"
      },
      "execution_count": null,
      "outputs": [
        {
          "output_type": "stream",
          "name": "stdout",
          "text": [
            "\u001b[92m Be sure to check out my last edit if you haven't already. :) https://t.co/N88T6qrwpI\n",
            "\u001b[94m\n",
            "Be sure to check out my last edit if you haven't already. :) \n"
          ]
        }
      ]
    },
    {
      "cell_type": "code",
      "source": [
        "print()\n",
        "print('\\033[92m'+tweet2)\n",
        "print('\\033[94m')"
      ],
      "metadata": {
        "colab": {
          "base_uri": "https://localhost:8080/"
        },
        "id": "6ro5q_2FvawP",
        "outputId": "a30b85fd-a5b1-4298-c59f-2cd450aa4bc5"
      },
      "execution_count": null,
      "outputs": [
        {
          "output_type": "stream",
          "name": "stdout",
          "text": [
            "\n",
            "\u001b[92mBe sure to check out my last edit if you haven't already. :) \n",
            "\u001b[94m\n"
          ]
        }
      ]
    },
    {
      "cell_type": "code",
      "source": [
        "tokenizer = TweetTokenizer(preserve_case=False,strip_handles=True,reduce_len=True) #preserve case for captial letter handle,strip handle for removing any twitter handles,reduce len for Flag indicating whether to replace repeated character sequences of length 3 or greater with sequences of length 3\n",
        "tweet_token = tokenizer.tokenize(tweet2)"
      ],
      "metadata": {
        "id": "whWiVlj-2OEG"
      },
      "execution_count": null,
      "outputs": []
    },
    {
      "cell_type": "code",
      "source": [
        "print()\n",
        "print(\"tokened one is \")\n",
        "print(tweet_token)"
      ],
      "metadata": {
        "colab": {
          "base_uri": "https://localhost:8080/"
        },
        "id": "aYLvB4_P3hKY",
        "outputId": "57fd889b-b144-4dd0-b646-019647dd5ab4"
      },
      "execution_count": null,
      "outputs": [
        {
          "output_type": "stream",
          "name": "stdout",
          "text": [
            "\n",
            "tokened one is \n",
            "['be', 'sure', 'to', 'check', 'out', 'my', 'last', 'edit', 'if', 'you', \"haven't\", 'already', '.', ':)']\n"
          ]
        }
      ]
    },
    {
      "cell_type": "code",
      "source": [
        "stopwards_english = stopwords.words('english')\n",
        "\n",
        "print('stopwords\\n')\n",
        "print(stopwards_english)\n",
        "print(\"punctions\\n\")\n",
        "print(string.punctuation)"
      ],
      "metadata": {
        "colab": {
          "base_uri": "https://localhost:8080/"
        },
        "id": "OHNDlfDtC1Ej",
        "outputId": "d6296e5d-6cad-4e1c-c43a-57a2dafef4f2"
      },
      "execution_count": null,
      "outputs": [
        {
          "output_type": "stream",
          "name": "stdout",
          "text": [
            "stopwords\n",
            "\n",
            "['i', 'me', 'my', 'myself', 'we', 'our', 'ours', 'ourselves', 'you', \"you're\", \"you've\", \"you'll\", \"you'd\", 'your', 'yours', 'yourself', 'yourselves', 'he', 'him', 'his', 'himself', 'she', \"she's\", 'her', 'hers', 'herself', 'it', \"it's\", 'its', 'itself', 'they', 'them', 'their', 'theirs', 'themselves', 'what', 'which', 'who', 'whom', 'this', 'that', \"that'll\", 'these', 'those', 'am', 'is', 'are', 'was', 'were', 'be', 'been', 'being', 'have', 'has', 'had', 'having', 'do', 'does', 'did', 'doing', 'a', 'an', 'the', 'and', 'but', 'if', 'or', 'because', 'as', 'until', 'while', 'of', 'at', 'by', 'for', 'with', 'about', 'against', 'between', 'into', 'through', 'during', 'before', 'after', 'above', 'below', 'to', 'from', 'up', 'down', 'in', 'out', 'on', 'off', 'over', 'under', 'again', 'further', 'then', 'once', 'here', 'there', 'when', 'where', 'why', 'how', 'all', 'any', 'both', 'each', 'few', 'more', 'most', 'other', 'some', 'such', 'no', 'nor', 'not', 'only', 'own', 'same', 'so', 'than', 'too', 'very', 's', 't', 'can', 'will', 'just', 'don', \"don't\", 'should', \"should've\", 'now', 'd', 'll', 'm', 'o', 're', 've', 'y', 'ain', 'aren', \"aren't\", 'couldn', \"couldn't\", 'didn', \"didn't\", 'doesn', \"doesn't\", 'hadn', \"hadn't\", 'hasn', \"hasn't\", 'haven', \"haven't\", 'isn', \"isn't\", 'ma', 'mightn', \"mightn't\", 'mustn', \"mustn't\", 'needn', \"needn't\", 'shan', \"shan't\", 'shouldn', \"shouldn't\", 'wasn', \"wasn't\", 'weren', \"weren't\", 'won', \"won't\", 'wouldn', \"wouldn't\"]\n",
            "punctions\n",
            "\n",
            "!\"#$%&'()*+,-./:;<=>?@[\\]^_`{|}~\n"
          ]
        }
      ]
    },
    {
      "cell_type": "code",
      "source": [
        "print()\n",
        "print('\\033[92m')\n",
        "print(tweet_token)\n",
        "print('\\033[94m')\n",
        "\n",
        "tweet_clean = []\n",
        "\n",
        "for word in tweet_token:\n",
        "  if (word not in stopwards_english and word not in string.punctuation):\n",
        "    tweet_clean.append(word)\n",
        "\n",
        "print(\"removed stopwards and punctuations\\n\")\n",
        "print(tweet_clean)"
      ],
      "metadata": {
        "colab": {
          "base_uri": "https://localhost:8080/"
        },
        "id": "A89Rjx3UDhOv",
        "outputId": "86ca894f-715c-4374-df35-e0beb944b598"
      },
      "execution_count": null,
      "outputs": [
        {
          "output_type": "stream",
          "name": "stdout",
          "text": [
            "\n",
            "\u001b[92m\n",
            "['be', 'sure', 'to', 'check', 'out', 'my', 'last', 'edit', 'if', 'you', \"haven't\", 'already', '.', ':)']\n",
            "\u001b[94m\n",
            "removed stopwards and punctuations\n",
            "\n",
            "['sure', 'check', 'last', 'edit', 'already', ':)']\n"
          ]
        }
      ]
    },
    {
      "cell_type": "code",
      "source": [
        "print()\n",
        "print('\\033[92m')\n",
        "print(tweet_clean)\n",
        "print('\\033[94m')\n",
        "\n",
        "tweet_stem = []\n",
        "stemer = PorterStemmer()\n",
        "\n",
        "for word in tweet_clean:\n",
        "  stem_word = stemer.stem(word)\n",
        "  tweet_stem.append(stem_word)\n",
        "\n",
        "\n",
        "print(\"steemed words\\n\")\n",
        "print(tweet_stem)"
      ],
      "metadata": {
        "colab": {
          "base_uri": "https://localhost:8080/"
        },
        "id": "MX0kt0CWExhw",
        "outputId": "b3cf8615-0d35-43de-eaa5-33d96ccfda82"
      },
      "execution_count": null,
      "outputs": [
        {
          "output_type": "stream",
          "name": "stdout",
          "text": [
            "\n",
            "\u001b[92m\n",
            "['sure', 'check', 'last', 'edit', 'already', ':)']\n",
            "\u001b[94m\n",
            "steemed words\n",
            "\n",
            "['sure', 'check', 'last', 'edit', 'alreadi', ':)']\n"
          ]
        }
      ]
    }
  ]
}